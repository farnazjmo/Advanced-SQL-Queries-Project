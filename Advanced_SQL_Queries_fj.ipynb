{
  "nbformat": 4,
  "nbformat_minor": 0,
  "metadata": {
    "colab": {
      "provenance": [],
      "include_colab_link": true
    },
    "kernelspec": {
      "name": "python3",
      "display_name": "Python 3"
    },
    "language_info": {
      "name": "python"
    }
  },
  "cells": [
    {
      "cell_type": "markdown",
      "metadata": {
        "id": "view-in-github",
        "colab_type": "text"
      },
      "source": [
        "<a href=\"https://colab.research.google.com/github/farnazjmo/Advanced-SQL-Queries-Project/blob/main/Advanced_SQL_Queries_fj.ipynb\" target=\"_parent\"><img src=\"https://colab.research.google.com/assets/colab-badge.svg\" alt=\"Open In Colab\"/></a>"
      ]
    },
    {
      "cell_type": "markdown",
      "source": [
        "\n",
        "\n",
        "<h1 align=\"center\">\n",
        "    NSDC Data Science Projects\n",
        "</h1>\n",
        "\n",
        "<h2 align=\"center\">\n",
        "    Project: Advanced SQL Queries - #3\n",
        "</h2>\n",
        "\n",
        "<h3 align=\"center\">\n",
        "    Name: Farnaz Jeddi Moghaddam\n",
        "</h3>\n"
      ],
      "metadata": {
        "id": "tt70feOIfcQ0"
      }
    },
    {
      "cell_type": "markdown",
      "source": [
        "**Project Description:**\n",
        "\n",
        "To work with the New York City Airbnb dataset in this project, you'll need to create and connect to an SQLite database as seen in the steps within this notebook.\n",
        "\n",
        "**Key Features**\n",
        "\n",
        "- Practical SQL exercises with step-by-step instructions.\n",
        "- Real-world datasets for hands-on experience.\n",
        "- Comprehensive explanations of SQL queries and concepts.\n",
        "- Interactive coding examples and challenges.\n",
        "\n",
        "**Dataset**\n",
        "- You can find the New York City Airbnb dataset on Kaggle: [New York City Airbnb Dataset](https://www.kaggle.com/datasets/dgomonov/new-york-city-airbnb-open-data)\n",
        "- Download the dataset from the provided link and save it as 'AB_NYC_2019.csv' on your computer.\n",
        "- On colab, click on the \"Upload\" button and select the 'AB_NYC_2019.csv' file from your local computer."
      ],
      "metadata": {
        "id": "35fgH_hXgAUU"
      }
    },
    {
      "cell_type": "markdown",
      "source": [
        "## Introduction\n",
        "This SQL project is designed for intermediate to advanced learners who want to practice writing SQL queries using a real-world dataset. In this project, we will work with the New York City Airbnb dataset. The main goal is to practice SQL syntax and advance data analysis tasks. Make sure to complete the code where there is a 'TODO' sign. Hints are provided along the way.\n",
        "\n",
        "## Table of Contents\n",
        "1. [Libraries and Database Setup](#database-setup)\n",
        "2. [Loading the Dataset](#loading-dataset)\n",
        "3. [Advanced SQL Queries](#sql-queries)\n",
        "4. [Closing Connection](#closing-connection)\n",
        "5. [Summary of Advanced SQL Commands](#summary-commands)\n",
        "\n",
        "# Section 1: Libraries and Database Setup <a name=\"database-setup\"></a>\n",
        "\n",
        "### Task 1.1: Import Libraries\n",
        "Let's start by importing the necessary libraries.\n"
      ],
      "metadata": {
        "id": "I4xHzjkqigQk"
      }
    },
    {
      "cell_type": "code",
      "source": [
        "# Connect to Google Drive\n",
        "from google.colab import drive\n",
        "drive.mount('/content/drive')"
      ],
      "metadata": {
        "colab": {
          "base_uri": "https://localhost:8080/"
        },
        "id": "vuwWeEnIiirc",
        "outputId": "29da569d-9152-47cc-c413-f96c03b91058"
      },
      "execution_count": 1,
      "outputs": [
        {
          "output_type": "stream",
          "name": "stdout",
          "text": [
            "Mounted at /content/drive\n"
          ]
        }
      ]
    },
    {
      "cell_type": "code",
      "source": [
        "import pandas as pd\n",
        "import numpy as np\n",
        "import sqlite3"
      ],
      "metadata": {
        "id": "NnR6oXHNG6Ff"
      },
      "execution_count": 2,
      "outputs": []
    },
    {
      "cell_type": "markdown",
      "source": [
        "### Task 1.2: Connect to the Database\n",
        "\n",
        "Next, establish a connection to the SQLite database named 'airbnb.db'.\n",
        "Use the sqlite3 library to create a connection object and store it in a variable called 'conn'.\n"
      ],
      "metadata": {
        "id": "qSERoLykixcz"
      }
    },
    {
      "cell_type": "code",
      "source": [
        "# Completed\n",
        "\n",
        "# Connect to the SQLite database\n",
        "conn = sqlite3.connect('airbnb.db')\n",
        "cursor = conn.cursor()"
      ],
      "metadata": {
        "id": "8G9tDLd2iyq7"
      },
      "execution_count": 3,
      "outputs": []
    },
    {
      "cell_type": "markdown",
      "source": [
        "# Section 2: Loading the Dataset <a name=\"loading-dataset\"></a>"
      ],
      "metadata": {
        "id": "gCE_OEk5BrF2"
      }
    },
    {
      "cell_type": "markdown",
      "source": [
        "### Task 2.1: Load the Dataset\n",
        "- You will work with the 'listings' table from the New York City Airbnb dataset.\n",
        "- Load the dataset from the CSV file 'AB_NYC_2019.csv' into a DataFrame named 'df'.\n",
        "- Then, import the DataFrame into the 'listings' table in the database using the to_sql() method.\n",
        "\n",
        "\\\\\n",
        "\n",
        "Hint: Use the read_csv() method from pandas to read the CSV file.\n"
      ],
      "metadata": {
        "id": "_bXjXLHli0aE"
      }
    },
    {
      "cell_type": "code",
      "source": [
        "# Completed\n",
        "\n",
        "# Load the dataset into the SQLite database\n",
        "data_path = '/content/drive/MyDrive/AB_NYC_2019.csv'\n",
        "df = pd.read_csv(data_path)\n",
        "df.to_sql('listings', conn, if_exists='replace', index=False)"
      ],
      "metadata": {
        "id": "blwNI_PEi5FT",
        "colab": {
          "base_uri": "https://localhost:8080/"
        },
        "outputId": "01a0481d-ba55-4f9f-b6ce-517daeeddf0c"
      },
      "execution_count": 6,
      "outputs": [
        {
          "output_type": "execute_result",
          "data": {
            "text/plain": [
              "48895"
            ]
          },
          "metadata": {},
          "execution_count": 6
        }
      ]
    },
    {
      "cell_type": "markdown",
      "source": [
        "# Section 3: Advanced SQL Tasks <a name=\"sql-queries\"></a>\n",
        "\n",
        "Query the database: Write SQL queries to analyze the data in the SQLite database. You can use the sqlite3 library to execute the queries and fetch the results."
      ],
      "metadata": {
        "id": "1j3xgaK4Ck3S"
      }
    },
    {
      "cell_type": "markdown",
      "source": [
        "### Task 3.1: Analyzing Host Performance\n",
        "- Find the top 10 hosts with the highest average ratings.\n",
        "- Include host's name, number of reviews, and average rating."
      ],
      "metadata": {
        "id": "eKaLdB8Fi7Bh"
      }
    },
    {
      "cell_type": "code",
      "source": [
        "# Your code here:\n",
        "\n",
        "\n",
        "query = \"\"\"\n",
        "-- 1. Calculate the number of reviews received by each host and name the result as 'num_reviews'\n",
        "-- 2. Calculate the average rating (reviews per month) for each host and name the result as 'avg_rating'\n",
        "-- 3. Group the results by host name\n",
        "-- 4. Order the results by average rating in descending order\n",
        "-- 5. Display the top 10 hosts with their names, the number of reviews, and average rating\n",
        "\n",
        "select host_name, num_reviews, avg_rating\n",
        "from (\n",
        "    select host_name, count(*) as num_reviews, avg(reviews_per_month) as avg_rating\n",
        "    from listings\n",
        "    group by host_name\n",
        ") as host_stats\n",
        "order by avg_rating desc\n",
        "limit 10\n",
        "\"\"\"\n"
      ],
      "metadata": {
        "id": "gqe3KmtUCr9V"
      },
      "execution_count": 18,
      "outputs": []
    },
    {
      "cell_type": "code",
      "source": [
        "# Completed\n",
        "\n",
        "result = pd.read_sql_query(query, conn)\n",
        "print(\"\\nAnalyzing Host Performance:\")\n",
        "print(result)"
      ],
      "metadata": {
        "colab": {
          "base_uri": "https://localhost:8080/"
        },
        "id": "6fib2hIqjKWr",
        "outputId": "20012f0f-2856-4598-f20d-58423291b69f"
      },
      "execution_count": 19,
      "outputs": [
        {
          "output_type": "stream",
          "name": "stdout",
          "text": [
            "\n",
            "Analyzing Host Performance:\n",
            "      host_name  num_reviews  avg_rating\n",
            "0       Row NYC            9   18.620000\n",
            "1       Nalicia            3   18.126667\n",
            "2          Dona            2   13.990000\n",
            "3       Aisling            1   13.420000\n",
            "4        Malini            1   13.150000\n",
            "5       Anabell            1   12.990000\n",
            "6       Miss Dy            1   12.840000\n",
            "7         Meeks            1   11.840000\n",
            "8  Britt & Greg            1   11.160000\n",
            "9         Hamad            1   10.860000\n"
          ]
        }
      ]
    },
    {
      "cell_type": "markdown",
      "source": [
        "### Task 3.2: Analyzing Monthly Price Trends\n",
        "- Display the month, average price, and number of listings for each month."
      ],
      "metadata": {
        "id": "0O4Nfb9yC61D"
      }
    },
    {
      "cell_type": "code",
      "source": [
        "# Your code here:\n",
        "\n",
        "query = \"\"\"\n",
        "-- 1. Use the `strftime('%m', last_review)` function to extract the month from the 'last_review' column and name it as 'month'\n",
        "-- 2. Calculate the average price for listings in each month and name the result as 'avg_price'\n",
        "-- 3. Calculate the number of listings in each month and name the result as 'num_listings'\n",
        "-- 4. Group the results by the 'month' column\n",
        "-- 5. Order the results by average price in descending order\n",
        "\n",
        "select strftime('%m', last_review) as month, avg(price) as avg_price, count(*) as num_listings\n",
        "from listings\n",
        "group by month\n",
        "order by avg_price desc\n",
        "\"\"\""
      ],
      "metadata": {
        "id": "4fJa4Bt6C7Nw"
      },
      "execution_count": 20,
      "outputs": []
    },
    {
      "cell_type": "code",
      "source": [
        "# Completed\n",
        "\n",
        "result = pd.read_sql_query(query, conn)\n",
        "print(\"Analyzing Monthly Price Trends:\")\n",
        "print(result)"
      ],
      "metadata": {
        "id": "_KICYQII-AVP",
        "colab": {
          "base_uri": "https://localhost:8080/"
        },
        "outputId": "81842cb1-3330-4082-d2d5-f574ca805b0d"
      },
      "execution_count": 21,
      "outputs": [
        {
          "output_type": "stream",
          "name": "stdout",
          "text": [
            "Analyzing Monthly Price Trends:\n",
            "   month   avg_price  num_listings\n",
            "0   None  192.919021         10052\n",
            "1     12  160.796610          1770\n",
            "2     02  155.716883           770\n",
            "3     01  150.478904          2773\n",
            "4     09  149.494463          1535\n",
            "5     07  142.290382          5937\n",
            "6     10  142.065330          1546\n",
            "7     06  140.769667         13589\n",
            "8     04  139.504979          2109\n",
            "9     11  138.532815          1158\n",
            "10    05  137.909594          4701\n",
            "11    03  136.836957          1288\n",
            "12    08  132.133173          1667\n"
          ]
        }
      ]
    },
    {
      "cell_type": "markdown",
      "source": [
        "### Task 3.3: Find the top 5 neighborhoods with the highest price variability\n",
        "-  Find the top 5 neighborhoods with the highest price variability.\n",
        "-  Display neighborhood and price variability.\n"
      ],
      "metadata": {
        "id": "uULLKoO0DEou"
      }
    },
    {
      "cell_type": "code",
      "source": [
        "# Your code here:\n",
        "\n",
        "query = \"\"\"\n",
        "-- 1. Create a Common Table Expression (CTE) named 'price_variability' that calculates the following for each neighborhood:\n",
        "--    - Calculate the average price and name it as 'avg_price'\n",
        "--    - Calculate the maximum price and name it as 'max_price'\n",
        "--    - Calculate the minimum price and name it as 'min_price'\n",
        "-- 2. In the main query, select the 'neighbourhood' column and calculate the price variability as the difference between 'max_price' and 'min_price'\n",
        "-- 3. Order the results by price variability in descending order\n",
        "-- 4. Limit the results to the top 5 neighborhoods\n",
        "\n",
        "with price_variability as (\n",
        "  select neighbourhood, avg(price) as avg_price, max(price) as max_price, min(price) as min_price\n",
        "  from listings\n",
        "  group by neighbourhood\n",
        ")\n",
        "select neighbourhood, max_price - min_price as price_variability\n",
        "from price_variability\n",
        "order by price_variability desc\n",
        "limit 5\n",
        "\"\"\""
      ],
      "metadata": {
        "id": "EDnyQuz1DDin"
      },
      "execution_count": 24,
      "outputs": []
    },
    {
      "cell_type": "code",
      "source": [
        "# Completed\n",
        "\n",
        "result = pd.read_sql_query(query, conn)\n",
        "print(\"Advanced Aggregation:\")\n",
        "print(result)"
      ],
      "metadata": {
        "colab": {
          "base_uri": "https://localhost:8080/"
        },
        "id": "ZGIUx6pn1ZpM",
        "outputId": "785b3616-952d-4822-a7b5-d42a398be940"
      },
      "execution_count": 25,
      "outputs": [
        {
          "output_type": "stream",
          "name": "stdout",
          "text": [
            "Advanced Aggregation:\n",
            "     neighbourhood  price_variability\n",
            "0       Greenpoint              10000\n",
            "1  Upper West Side               9990\n",
            "2          Astoria               9975\n",
            "3  Lower East Side               9970\n",
            "4      East Harlem               9969\n"
          ]
        }
      ]
    },
    {
      "cell_type": "markdown",
      "source": [
        "### Task 3.4: Advanced Data Manipulation\n",
        "- Calculate days since the last review and identify top 10 listings.\n",
        "- Display listing ID, name, and days since the last review."
      ],
      "metadata": {
        "id": "yPvuIfq7DMhj"
      }
    },
    {
      "cell_type": "code",
      "source": [
        "# Your code here:\n",
        "\n",
        "query = \"\"\"\n",
        "-- 1. Select the following columns from the 'listings' table:\n",
        "--    - 'id'\n",
        "--    - 'name'\n",
        "--    - Calculate the number of days since the last review and name it as 'days_since_last_review.'\n",
        "--      Use the 'julianday' function to calculate the difference in days between the current date and the 'last_review' date\n",
        "-- 2. Order the results by 'days_since_last_review' in descending order\n",
        "-- 3. Limit the results to the top 10 listings\n",
        "\n",
        "select id, name, julianday('now') - julianday(last_review) as days_since_last_review\n",
        "from listings\n",
        "order by days_since_last_review desc\n",
        "limit 10\n",
        "\"\"\""
      ],
      "metadata": {
        "id": "U1r32q1rDOil"
      },
      "execution_count": 38,
      "outputs": []
    },
    {
      "cell_type": "code",
      "source": [
        "# Completed\n",
        "\n",
        "result = pd.read_sql_query(query, conn)\n",
        "print(\"\\nAdvanced Data Manipulation:\")\n",
        "print(result)"
      ],
      "metadata": {
        "colab": {
          "base_uri": "https://localhost:8080/"
        },
        "id": "s93h67wkDR6r",
        "outputId": "b21ff526-02b0-4ca9-b6f7-c28d6700c0fb"
      },
      "execution_count": 39,
      "outputs": [
        {
          "output_type": "stream",
          "name": "stdout",
          "text": [
            "\n",
            "Advanced Data Manipulation:\n",
            "       id                                               name  \\\n",
            "0   74860  Sunlit and Cozy Williamsburg/Greenpoint, Brooklyn   \n",
            "1   40039                 Luxurious Condo in DUBMO with View   \n",
            "2   81739                  Loft w/ Terrace @ Box House Hotel   \n",
            "3   28396                  Modern Apt with Spectacular Views   \n",
            "4   32363                 Fully Furnished Basement Apartment   \n",
            "5   27883                             East Village Sanctuary   \n",
            "6    7801                   Sweet and Spacious Brooklyn Loft   \n",
            "7  229874                     Oversized Studio in Park Slope   \n",
            "8   98330                LOVELY APARTMENT IN THE HEART OF NY   \n",
            "9  464231                     Large Room w/ Private Entrance   \n",
            "\n",
            "   days_since_last_review  \n",
            "0             5212.847706  \n",
            "1             5184.847706  \n",
            "2             5167.847706  \n",
            "3             5038.847706  \n",
            "4             5037.847706  \n",
            "5             4955.847706  \n",
            "6             4937.847706  \n",
            "7             4932.847706  \n",
            "8             4931.847706  \n",
            "9             4784.847706  \n"
          ]
        }
      ]
    },
    {
      "cell_type": "markdown",
      "source": [
        "### Task 3.5:  Identifying Top Hosts by Revenue\n",
        "- Calculate the total revenue generated by each host and rank them based on revenue.\n",
        "- Display the host name, total revenue, and their rank."
      ],
      "metadata": {
        "id": "nIWy051Y2j7h"
      }
    },
    {
      "cell_type": "code",
      "source": [
        "# Your code here:\n",
        "\n",
        "query = \"\"\"\n",
        "-- 1. Select the following columns from the 'listings' table:\n",
        "--    - 'host_name'\n",
        "--    - Calculate the total revenue for each host by multiplying 'price' by 'minimum_nights' and name it as 'total_revenue.'\n",
        "--    - Use the RANK() window function to determine the rank of each host by total revenue in descending order and name it as 'revenue_rank.'\n",
        "-- 2. Group the results by 'host_name.'\n",
        "-- 3. Order the results by 'total_revenue' in descending order.\n",
        "-- 4. Limit the results to the top 10 hosts.\n",
        "\n",
        "select host_name, sum(price * minimum_nights) as total_revenue, rank() over (order by sum(price * minimum_nights) desc) as revenue_rank\n",
        "from listings\n",
        "group by host_name\n",
        "order by total_revenue desc\n",
        "limit 10\n",
        "\"\"\""
      ],
      "metadata": {
        "id": "gygsx68g2YEX"
      },
      "execution_count": 44,
      "outputs": []
    },
    {
      "cell_type": "code",
      "source": [
        "# Completed\n",
        "\n",
        "result = pd.read_sql_query(query, conn)\n",
        "print(\"Identifying Top Hosts by Revenue:\")\n",
        "print(result)"
      ],
      "metadata": {
        "colab": {
          "base_uri": "https://localhost:8080/"
        },
        "id": "BOZr1Ty02YHk",
        "outputId": "310de9b4-4227-4d23-87f4-20172edd7af7"
      },
      "execution_count": 45,
      "outputs": [
        {
          "output_type": "stream",
          "name": "stdout",
          "text": [
            "Identifying Top Hosts by Revenue:\n",
            "      host_name  total_revenue  revenue_rank\n",
            "0    Blueground        2258580             1\n",
            "1         Jenny        1215111             2\n",
            "2          Kara        1172637             3\n",
            "3           Amy        1153867             4\n",
            "4      Kathrine        1002082             5\n",
            "5  Sonder (NYC)         950453             6\n",
            "6         Iveta         857750             7\n",
            "7        Noelle         732930             8\n",
            "8       Pranjal         664320             9\n",
            "9       Michael         610539            10\n"
          ]
        }
      ]
    },
    {
      "cell_type": "markdown",
      "source": [
        "# Section 4: Closing the Database Connection <a name=\"closing-connection\"></a>"
      ],
      "metadata": {
        "id": "CyaxVtAuDyDd"
      }
    },
    {
      "cell_type": "markdown",
      "source": [
        "### Task 4.1: Close the Cursor and Database Connection\n",
        "- It's good practice to close the cursor and the database connection when you're done working with the database to free up system resources and maintain proper connection management.\n"
      ],
      "metadata": {
        "id": "nFKyd0DbD4Ns"
      }
    },
    {
      "cell_type": "code",
      "source": [
        "# Completed\n",
        "\n",
        "# Make sure to include these lines of code at the end of your script to properly close the cursor and database connection.\n",
        "cursor.close()\n",
        "conn.close()"
      ],
      "metadata": {
        "id": "_z_H6ZsmD2GX"
      },
      "execution_count": 46,
      "outputs": []
    },
    {
      "cell_type": "markdown",
      "source": [
        "# Section 5: Summary of Advanced SQL Commands <a name=\"summary-commands\"></a>"
      ],
      "metadata": {
        "id": "5tOYpl9rVXV2"
      }
    },
    {
      "cell_type": "markdown",
      "source": [
        "In this project, you have practiced various SQL commands and tasks. Below is a summary of the advanced SQL commands used:\n",
        "\n",
        "**Task 1.2: Connect to the Database**\n",
        "- Established a connection to the SQLite database.\n",
        "\n",
        "**Task 2.1: Load the Dataset**\n",
        "- Loaded the dataset into a DataFrame.\n",
        "- Imported the DataFrame into the database.\n",
        "\n",
        "**Task 3.1: Identifying Top Hosts by Reviews and Ratings**\n",
        "- SQL Commands: SELECT, COUNT(), AVG(), GROUP BY, ORDER BY, LIMIT\n",
        "- Description: Calculate the number of reviews and average ratings for each host and identify the top hosts by ratings and reviews.\n",
        "\n",
        "**Task 3.2: Analyzing Seasonal Price Trends**\n",
        "- SQL Commands: SELECT, strftime(), AVG(), COUNT(), GROUP BY, ORDER BY\n",
        "- Description: Analyze seasonal price trends by extracting the month from the last review date and calculating average prices.\n",
        "\n",
        "**Task 3.3: Finding Neighborhoods with Price Variability**\n",
        "- SQL Commands: WITH, SELECT, AVG(), MAX(), MIN(), GROUP BY, ORDER BY\n",
        "- Description: Identify neighborhoods with the highest price variability by calculating the difference between the maximum and minimum prices.\n",
        "\n",
        "**Task 3.4: Advanced Data Manipulation**\n",
        "- SQL Commands: SELECT, julianday(), ORDER BY, LIMIT\n",
        "- Description: Calculate the number of days since the last review for each listing and sort them by the days since the last review.\n",
        "\n",
        "**Task 3.5: Identifying Top Hosts by Revenue**\n",
        "- SQL Commands: SELECT, SUM(), RANK(), GROUP BY, ORDER BY, LIMIT\n",
        "- Description: Determine the top hosts by total revenue generated from their listings, including a ranking based on revenue.\n",
        "\n",
        "**Task 4.1: Close the Cursor and Database Connection**\n",
        "- Closed the cursor and the database connection.\n",
        "\n",
        "This summary provides an overview of the advanced SQL commands used in this project. You can use this as a reference for future SQL projects and data analysis tasks."
      ],
      "metadata": {
        "id": "wS_xxvBKVTha"
      }
    },
    {
      "cell_type": "markdown",
      "metadata": {
        "id": "UT8Rpdt4ZPeA"
      },
      "source": [
        "<h3 align = 'center' >\n",
        "Thank you for completing the project!\n",
        "</h3>\n",
        "\n",
        "Please share your completed Google Colab Notebook with nsdc@nebigdatahub.org to receive a certificate of completion. Do reach out to us if you have any questions or concerns. We are here to help you learn and grow.\n",
        "\n",
        "If you have any queries, please contact the NSDC HQ Team at nsdc@nebigdatahub.org.\n"
      ]
    }
  ]
}